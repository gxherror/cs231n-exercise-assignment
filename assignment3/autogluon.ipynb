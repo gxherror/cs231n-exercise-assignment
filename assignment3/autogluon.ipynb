{
 "cells": [
  {
   "cell_type": "code",
   "execution_count": 3,
   "metadata": {},
   "outputs": [
    {
     "name": "stderr",
     "output_type": "stream",
     "text": [
      "/home/xherror/anaconda3/lib/python3.9/site-packages/gluoncv/__init__.py:40: UserWarning: Both `mxnet==1.9.0` and `torch==1.10.2+cu113` are installed. You might encounter increased GPU memory footprint if both framework are used at the same time.\n",
      "  warnings.warn(f'Both `mxnet=={mx.__version__}` and `torch=={torch.__version__}` are installed. '\n"
     ]
    }
   ],
   "source": [
    "%matplotlib inline\n",
    "import autogluon.core as ag\n",
    "from autogluon.vision import ImageDataset,ImagePredictor\n",
    "import pandas as pd"
   ]
  },
  {
   "cell_type": "code",
   "execution_count": 2,
   "metadata": {},
   "outputs": [
    {
     "name": "stderr",
     "output_type": "stream",
     "text": [
      "100%|██████████| 820/820 [00:00<00:00, 1005.91KB/s]\n"
     ]
    },
    {
     "data": {
      "text/html": [
       "<div>\n",
       "<style scoped>\n",
       "    .dataframe tbody tr th:only-of-type {\n",
       "        vertical-align: middle;\n",
       "    }\n",
       "\n",
       "    .dataframe tbody tr th {\n",
       "        vertical-align: top;\n",
       "    }\n",
       "\n",
       "    .dataframe thead th {\n",
       "        text-align: right;\n",
       "    }\n",
       "</style>\n",
       "<table border=\"1\" class=\"dataframe\">\n",
       "  <thead>\n",
       "    <tr style=\"text-align: right;\">\n",
       "      <th></th>\n",
       "      <th>image</th>\n",
       "      <th>PetID</th>\n",
       "      <th>label</th>\n",
       "    </tr>\n",
       "  </thead>\n",
       "  <tbody>\n",
       "    <tr>\n",
       "      <th>0</th>\n",
       "      <td>petfinder_data/train_images/015da9e87-1.jpg</td>\n",
       "      <td>015da9e87</td>\n",
       "      <td>0</td>\n",
       "    </tr>\n",
       "    <tr>\n",
       "      <th>1</th>\n",
       "      <td>petfinder_data/train_images/022606901-1.jpg</td>\n",
       "      <td>022606901</td>\n",
       "      <td>0</td>\n",
       "    </tr>\n",
       "    <tr>\n",
       "      <th>2</th>\n",
       "      <td>petfinder_data/train_images/02f89bdcb-1.jpg</td>\n",
       "      <td>02f89bdcb</td>\n",
       "      <td>0</td>\n",
       "    </tr>\n",
       "    <tr>\n",
       "      <th>3</th>\n",
       "      <td>petfinder_data/train_images/03f217352-1.jpg</td>\n",
       "      <td>03f217352</td>\n",
       "      <td>0</td>\n",
       "    </tr>\n",
       "    <tr>\n",
       "      <th>4</th>\n",
       "      <td>petfinder_data/train_images/040a9a6f9-1.jpg</td>\n",
       "      <td>040a9a6f9</td>\n",
       "      <td>0</td>\n",
       "    </tr>\n",
       "  </tbody>\n",
       "</table>\n",
       "</div>"
      ],
      "text/plain": [
       "                                         image      PetID  label\n",
       "0  petfinder_data/train_images/015da9e87-1.jpg  015da9e87      0\n",
       "1  petfinder_data/train_images/022606901-1.jpg  022606901      0\n",
       "2  petfinder_data/train_images/02f89bdcb-1.jpg  02f89bdcb      0\n",
       "3  petfinder_data/train_images/03f217352-1.jpg  03f217352      0\n",
       "4  petfinder_data/train_images/040a9a6f9-1.jpg  040a9a6f9      0"
      ]
     },
     "execution_count": 2,
     "metadata": {},
     "output_type": "execute_result"
    }
   ],
   "source": [
    "csv_file = ag.utils.download('https://autogluon.s3-us-west-2.amazonaws.com/datasets/petfinder_example.csv')\n",
    "df = pd.read_csv(csv_file)\n",
    "df.head()\n",
    "#We use a csv file from PetFinder competition as an example. \n",
    "# You may use any tabular data as long as you can create image\n",
    "# (absolute or relative paths to images) and label(category for each image) columns.\n",
    "#"
   ]
  },
  {
   "cell_type": "code",
   "execution_count": 8,
   "metadata": {},
   "outputs": [
    {
     "name": "stdout",
     "output_type": "stream",
     "text": [
      "data/\n",
      "├── test/\n",
      "└── train/\n",
      "train # 800 test # 80\n"
     ]
    },
    {
     "data": {
      "text/html": [
       "<div>\n",
       "<style scoped>\n",
       "    .dataframe tbody tr th:only-of-type {\n",
       "        vertical-align: middle;\n",
       "    }\n",
       "\n",
       "    .dataframe tbody tr th {\n",
       "        vertical-align: top;\n",
       "    }\n",
       "\n",
       "    .dataframe thead th {\n",
       "        text-align: right;\n",
       "    }\n",
       "</style>\n",
       "<table border=\"1\" class=\"dataframe\">\n",
       "  <thead>\n",
       "    <tr style=\"text-align: right;\">\n",
       "      <th></th>\n",
       "      <th>image</th>\n",
       "      <th>label</th>\n",
       "    </tr>\n",
       "  </thead>\n",
       "  <tbody>\n",
       "    <tr>\n",
       "      <th>0</th>\n",
       "      <td>/home/xherror/.gluoncv/datasets/shopee-iet/dat...</td>\n",
       "      <td>0</td>\n",
       "    </tr>\n",
       "    <tr>\n",
       "      <th>1</th>\n",
       "      <td>/home/xherror/.gluoncv/datasets/shopee-iet/dat...</td>\n",
       "      <td>0</td>\n",
       "    </tr>\n",
       "    <tr>\n",
       "      <th>2</th>\n",
       "      <td>/home/xherror/.gluoncv/datasets/shopee-iet/dat...</td>\n",
       "      <td>0</td>\n",
       "    </tr>\n",
       "    <tr>\n",
       "      <th>3</th>\n",
       "      <td>/home/xherror/.gluoncv/datasets/shopee-iet/dat...</td>\n",
       "      <td>0</td>\n",
       "    </tr>\n",
       "    <tr>\n",
       "      <th>4</th>\n",
       "      <td>/home/xherror/.gluoncv/datasets/shopee-iet/dat...</td>\n",
       "      <td>0</td>\n",
       "    </tr>\n",
       "  </tbody>\n",
       "</table>\n",
       "</div>"
      ],
      "text/plain": [
       "                                               image  label\n",
       "0  /home/xherror/.gluoncv/datasets/shopee-iet/dat...      0\n",
       "1  /home/xherror/.gluoncv/datasets/shopee-iet/dat...      0\n",
       "2  /home/xherror/.gluoncv/datasets/shopee-iet/dat...      0\n",
       "3  /home/xherror/.gluoncv/datasets/shopee-iet/dat...      0\n",
       "4  /home/xherror/.gluoncv/datasets/shopee-iet/dat...      0"
      ]
     },
     "execution_count": 8,
     "metadata": {},
     "output_type": "execute_result"
    }
   ],
   "source": [
    "train_data, _, test_data = ImageDataset.from_folders('https://autogluon.s3.amazonaws.com/datasets/shopee-iet.zip', train='train', test='test')\n",
    "print('train #', len(train_data), 'test #', len(test_data))\n",
    "train_data.head()"
   ]
  },
  {
   "cell_type": "code",
   "execution_count": 15,
   "metadata": {},
   "outputs": [
    {
     "name": "stdout",
     "output_type": "stream",
     "text": [
      "data/\n",
      "├── test/\n",
      "└── train/\n",
      "                                                 image  label\n",
      "0    /home/xherror/.gluoncv/datasets/shopee-iet/dat...      0\n",
      "1    /home/xherror/.gluoncv/datasets/shopee-iet/dat...      0\n",
      "2    /home/xherror/.gluoncv/datasets/shopee-iet/dat...      0\n",
      "3    /home/xherror/.gluoncv/datasets/shopee-iet/dat...      0\n",
      "4    /home/xherror/.gluoncv/datasets/shopee-iet/dat...      0\n",
      "..                                                 ...    ...\n",
      "795  /home/xherror/.gluoncv/datasets/shopee-iet/dat...      3\n",
      "796  /home/xherror/.gluoncv/datasets/shopee-iet/dat...      3\n",
      "797  /home/xherror/.gluoncv/datasets/shopee-iet/dat...      3\n",
      "798  /home/xherror/.gluoncv/datasets/shopee-iet/dat...      3\n",
      "799  /home/xherror/.gluoncv/datasets/shopee-iet/dat...      3\n",
      "\n",
      "[800 rows x 2 columns]\n"
     ]
    }
   ],
   "source": [
    "train_dataset, _, test_dataset = ImageDataset.from_folders('https://autogluon.s3.amazonaws.com/datasets/shopee-iet.zip')\n",
    "print(train_dataset)"
   ]
  },
  {
   "cell_type": "code",
   "execution_count": 4,
   "metadata": {},
   "outputs": [
    {
     "name": "stdout",
     "output_type": "stream",
     "text": [
      "data/\n",
      "├── test/\n",
      "└── train/\n"
     ]
    }
   ],
   "source": [
    "train_data, _, test_data = ImageDataset.from_folders('https://autogluon.s3.amazonaws.com/datasets/shopee-iet.zip')"
   ]
  },
  {
   "cell_type": "code",
   "execution_count": 5,
   "metadata": {},
   "outputs": [],
   "source": [
    "model = ag.Categorical('resnet18_v1b', 'mobilenetv3_small')\n",
    "\n",
    "# you may choose more than 70+ available model in the model zoo provided by GluonCV:\n",
    "model_list = ImagePredictor.list_models()"
   ]
  },
  {
   "cell_type": "code",
   "execution_count": 6,
   "metadata": {},
   "outputs": [],
   "source": [
    "batch_size = 8\n",
    "lr = ag.Categorical(1e-2, 1e-3)"
   ]
  },
  {
   "cell_type": "code",
   "execution_count": 7,
   "metadata": {},
   "outputs": [
    {
     "name": "stderr",
     "output_type": "stream",
     "text": [
      "Reset labels to [0, 1, 2, 3]\n",
      "Randomly split train_data into train[720]/validation[80] splits.\n",
      "The number of requested GPUs is greater than the number of available GPUs.Reduce the number to 1\n",
      "Starting HPO experiments\n",
      "  0%|          | 0/2 [00:00<?, ?it/s]=============================================================================\n",
      "WARNING: Using MXNet models in ImagePredictor is deprecated as of v0.4.0 and may contain various bugs and issues!\n",
      "In v0.5.0, ImagePredictor will no longer support training MXNet models. Please consider switching to specifying Torch models instead.\n",
      "Users should ensure they update their code that depends on ImagePredictor when upgrading to future AutoGluon releases.\n",
      "For more information, refer to this GitHub issue: https://github.com/awslabs/autogluon/issues/1560\n",
      "=============================================================================\n",
      "\n",
      "modified configs(<old> != <new>): {\n",
      "root.img_cls.model   resnet50_v1 != resnet18_v1b\n",
      "root.train.early_stop_patience -1 != 10\n",
      "root.train.rec_train ~/.mxnet/datasets/imagenet/rec/train.rec != auto\n",
      "root.train.lr        0.1 != 0.01\n",
      "root.train.early_stop_baseline 0.0 != -inf\n",
      "root.train.batch_size 128 != 8\n",
      "root.train.rec_val_idx ~/.mxnet/datasets/imagenet/rec/val.idx != auto\n",
      "root.train.rec_train_idx ~/.mxnet/datasets/imagenet/rec/train.idx != auto\n",
      "root.train.num_training_samples 1281167 != -1\n",
      "root.train.num_workers 4 != 8\n",
      "root.train.epochs    10 != 2\n",
      "root.train.data_dir  ~/.mxnet/datasets/imagenet != auto\n",
      "root.train.rec_val   ~/.mxnet/datasets/imagenet/rec/val.rec != auto\n",
      "root.train.early_stop_max_value 1.0 != inf\n",
      "root.valid.num_workers 4 != 8\n",
      "root.valid.batch_size 128 != 8\n",
      "}\n",
      "Saved config to /home/xherror/Repo/cs231n-exercise-assignment/assignment3/0f6b41cb/.trial_0/config.yaml\n",
      "[22:45:33] ../src/imperative/./imperative_utils.h:93: GPU support is disabled. Compile MXNet with USE_CUDA=1 to enable GPU support.\n",
      "No gpu detected, fallback to cpu. You can ignore this warning if this is intended.\n"
     ]
    },
    {
     "name": "stdout",
     "output_type": "stream",
     "text": [
      "Downloading /home/xherror/.mxnet/models/resnet18_v1b-2d9d980c.zip from https://apache-mxnet.s3-accelerate.dualstack.amazonaws.com/gluon/models/resnet18_v1b-2d9d980c.zip...\n"
     ]
    },
    {
     "name": "stderr",
     "output_type": "stream",
     "text": [
      "42433KB [00:02, 16162.45KB/s]                           \n",
      "Start training from [Epoch 0]\n",
      "Epoch[0] Batch [49]\tSpeed: 12.750208 samples/sec\taccuracy=0.357500\tlr=0.010000\n",
      "[Epoch 0] training: accuracy=0.425000\n",
      "[Epoch 0] speed: 12 samples/sec\ttime cost: 56.978304\n",
      "[Epoch 0] validation: top1=0.762500 top5=1.000000\n",
      "[Epoch 0] Current best top-1: 0.762500 vs previous -inf, saved to /home/xherror/Repo/cs231n-exercise-assignment/assignment3/0f6b41cb/.trial_0/best_checkpoint.pkl\n",
      "Epoch[1] Batch [49]\tSpeed: 12.395890 samples/sec\taccuracy=0.562500\tlr=0.010000\n",
      "[Epoch 1] training: accuracy=0.583333\n",
      "[Epoch 1] speed: 12 samples/sec\ttime cost: 58.249302\n",
      "[Epoch 1] validation: top1=0.850000 top5=1.000000\n",
      "[Epoch 1] Current best top-1: 0.850000 vs previous 0.762500, saved to /home/xherror/Repo/cs231n-exercise-assignment/assignment3/0f6b41cb/.trial_0/best_checkpoint.pkl\n",
      "Applying the state from the best checkpoint...\n",
      "[22:47:44] ../src/imperative/./imperative_utils.h:93: GPU support is disabled. Compile MXNet with USE_CUDA=1 to enable GPU support.\n",
      " 50%|█████     | 1/2 [02:12<02:12, 132.87s/it]=============================================================================\n",
      "WARNING: Using MXNet models in ImagePredictor is deprecated as of v0.4.0 and may contain various bugs and issues!\n",
      "In v0.5.0, ImagePredictor will no longer support training MXNet models. Please consider switching to specifying Torch models instead.\n",
      "Users should ensure they update their code that depends on ImagePredictor when upgrading to future AutoGluon releases.\n",
      "For more information, refer to this GitHub issue: https://github.com/awslabs/autogluon/issues/1560\n",
      "=============================================================================\n",
      "\n",
      "modified configs(<old> != <new>): {\n",
      "root.img_cls.model   resnet50_v1 != resnet18_v1b\n",
      "root.train.early_stop_patience -1 != 10\n",
      "root.train.rec_train ~/.mxnet/datasets/imagenet/rec/train.rec != auto\n",
      "root.train.lr        0.1 != 0.001\n",
      "root.train.early_stop_baseline 0.0 != -inf\n",
      "root.train.batch_size 128 != 8\n",
      "root.train.rec_val_idx ~/.mxnet/datasets/imagenet/rec/val.idx != auto\n",
      "root.train.rec_train_idx ~/.mxnet/datasets/imagenet/rec/train.idx != auto\n",
      "root.train.num_training_samples 1281167 != -1\n",
      "root.train.num_workers 4 != 8\n",
      "root.train.epochs    10 != 2\n",
      "root.train.data_dir  ~/.mxnet/datasets/imagenet != auto\n",
      "root.train.rec_val   ~/.mxnet/datasets/imagenet/rec/val.rec != auto\n",
      "root.train.early_stop_max_value 1.0 != inf\n",
      "root.valid.num_workers 4 != 8\n",
      "root.valid.batch_size 128 != 8\n",
      "}\n",
      "Saved config to /home/xherror/Repo/cs231n-exercise-assignment/assignment3/0f6b41cb/.trial_1/config.yaml\n",
      "[22:47:45] ../src/imperative/./imperative_utils.h:93: GPU support is disabled. Compile MXNet with USE_CUDA=1 to enable GPU support.\n",
      "No gpu detected, fallback to cpu. You can ignore this warning if this is intended.\n",
      "Start training from [Epoch 0]\n",
      "Epoch[0] Batch [49]\tSpeed: 10.296066 samples/sec\taccuracy=0.252500\tlr=0.001000\n",
      "[Epoch 0] training: accuracy=0.255556\n",
      "[Epoch 0] speed: 10 samples/sec\ttime cost: 69.933311\n",
      "[Epoch 0] validation: top1=0.350000 top5=1.000000\n",
      "[Epoch 0] Current best top-1: 0.350000 vs previous -inf, saved to /home/xherror/Repo/cs231n-exercise-assignment/assignment3/0f6b41cb/.trial_1/best_checkpoint.pkl\n",
      "Epoch[1] Batch [49]\tSpeed: 12.077317 samples/sec\taccuracy=0.320000\tlr=0.001000\n",
      "[Epoch 1] training: accuracy=0.350000\n",
      "[Epoch 1] speed: 11 samples/sec\ttime cost: 60.786058\n",
      "[Epoch 1] validation: top1=0.387500 top5=1.000000\n",
      "[Epoch 1] Current best top-1: 0.387500 vs previous 0.350000, saved to /home/xherror/Repo/cs231n-exercise-assignment/assignment3/0f6b41cb/.trial_1/best_checkpoint.pkl\n",
      "Applying the state from the best checkpoint...\n",
      "[22:50:07] ../src/imperative/./imperative_utils.h:93: GPU support is disabled. Compile MXNet with USE_CUDA=1 to enable GPU support.\n",
      "100%|██████████| 2/2 [04:36<00:00, 138.05s/it]\n",
      "=============================================================================\n",
      "WARNING: Using MXNet models in ImagePredictor is deprecated as of v0.4.0 and may contain various bugs and issues!\n",
      "In v0.5.0, ImagePredictor will no longer support training MXNet models. Please consider switching to specifying Torch models instead.\n",
      "Users should ensure they update their code that depends on ImagePredictor when upgrading to future AutoGluon releases.\n",
      "For more information, refer to this GitHub issue: https://github.com/awslabs/autogluon/issues/1560\n",
      "=============================================================================\n",
      "\n",
      "[22:50:09] ../src/imperative/./imperative_utils.h:93: GPU support is disabled. Compile MXNet with USE_CUDA=1 to enable GPU support.\n",
      "Saving Training Curve in /home/xherror/Repo/cs231n-exercise-assignment/assignment3/0f6b41cb/plot_training_curves.png\n"
     ]
    },
    {
     "data": {
      "image/png": "[encoded data removed]",
      "text/plain": [
       "<Figure size 432x288 with 1 Axes>"
      ]
     },
     "metadata": {
      "needs_background": "light"
     },
     "output_type": "display_data"
    },
    {
     "name": "stderr",
     "output_type": "stream",
     "text": [
      "Finished, total runtime is 278.00 s\n",
      "{ 'best_config': { 'estimator': <class 'gluoncv.auto.estimators.image_classification.image_classification.ImageClassificationEstimator'>,\n",
      "                   'gpus': [0],\n",
      "                   'img_cls': { 'batch_norm': False,\n",
      "                                'last_gamma': False,\n",
      "                                'model': 'resnet18_v1b',\n",
      "                                'use_gn': False,\n",
      "                                'use_pretrained': True,\n",
      "                                'use_se': False},\n",
      "                   'train': { 'batch_size': 8,\n",
      "                              'crop_ratio': 0.875,\n",
      "                              'data_dir': 'auto',\n",
      "                              'dtype': 'float32',\n",
      "                              'early_stop_baseline': -inf,\n",
      "                              'early_stop_max_value': inf,\n",
      "                              'early_stop_min_delta': 0.001,\n",
      "                              'early_stop_patience': 10,\n",
      "                              'epochs': 2,\n",
      "                              'hard_weight': 0.5,\n",
      "                              'input_size': 224,\n",
      "                              'label_smoothing': False,\n",
      "                              'log_interval': 50,\n",
      "                              'lr': 0.01,\n",
      "                              'lr_decay': 0.1,\n",
      "                              'lr_decay_epoch': '40, 60',\n",
      "                              'lr_decay_period': 0,\n",
      "                              'lr_mode': 'step',\n",
      "                              'mixup': False,\n",
      "                              'mixup_alpha': 0.2,\n",
      "                              'mixup_off_epoch': 0,\n",
      "                              'mode': '',\n",
      "                              'momentum': 0.9,\n",
      "                              'no_wd': False,\n",
      "                              'num_training_samples': -1,\n",
      "                              'num_workers': 8,\n",
      "                              'output_lr_mult': 0.1,\n",
      "                              'pretrained_base': True,\n",
      "                              'rec_train': 'auto',\n",
      "                              'rec_train_idx': 'auto',\n",
      "                              'rec_val': 'auto',\n",
      "                              'rec_val_idx': 'auto',\n",
      "                              'resume_epoch': 0,\n",
      "                              'start_epoch': 0,\n",
      "                              'teacher': None,\n",
      "                              'temperature': 20,\n",
      "                              'transfer_lr_mult': 0.01,\n",
      "                              'use_rec': False,\n",
      "                              'warmup_epochs': 0,\n",
      "                              'warmup_lr': 0.0,\n",
      "                              'wd': 0.0001},\n",
      "                   'valid': {'batch_size': 8, 'num_workers': 8}},\n",
      "  'total_time': 277.7860577106476,\n",
      "  'train_acc': 0.35,\n",
      "  'valid_acc': 0.3875}\n"
     ]
    },
    {
     "name": "stdout",
     "output_type": "stream",
     "text": [
      "Top-1 val acc: 0.388\n"
     ]
    }
   ],
   "source": [
    "hyperparameters={'model': model, 'batch_size': batch_size, 'lr': lr, 'epochs': 2}\n",
    "predictor = ImagePredictor()\n",
    "predictor.fit(train_data, time_limit=60*10, hyperparameters=hyperparameters,\n",
    "              hyperparameter_tune_kwargs={'num_trials': 2})\n",
    "print('Top-1 val acc: %.3f' % predictor.fit_summary()['valid_acc'])"
   ]
  },
  {
   "cell_type": "code",
   "execution_count": 5,
   "metadata": {},
   "outputs": [
    {
     "name": "stderr",
     "output_type": "stream",
     "text": [
      "`time_limit=auto` set to `time_limit=7200`.\n",
      "Reset labels to [0, 1, 2, 3]\n",
      "Randomly split train_data into train[720]/validation[80] splits.\n",
      "The number of requested GPUs is greater than the number of available GPUs.Reduce the number to 1\n",
      "Starting fit without HPO\n",
      "modified configs(<old> != <new>): {\n",
      "root.img_cls.model   resnet101 != resnet50\n",
      "root.train.batch_size 32 != 16\n",
      "root.train.epochs    200 != 2\n",
      "root.train.early_stop_max_value 1.0 != inf\n",
      "root.train.early_stop_patience -1 != 10\n",
      "root.train.early_stop_baseline 0.0 != -inf\n",
      "root.misc.num_workers 4 != 8\n",
      "root.misc.seed       42 != 199\n",
      "}\n",
      "Saved config to /home/xherror/Repo/cs231n-exercise-assignment/assignment3/56b6ea6e/.trial_0/config.yaml\n",
      "No gpu detected, fallback to cpu. You can ignore this warning if this is intended.\n",
      "Model resnet50 created, param count:                                         23516228\n",
      "AMP not enabled. Training in float32.\n",
      "Disable EMA as it is not supported for now.\n",
      "Start training from [Epoch 0]\n",
      "[Epoch 0] training: accuracy=0.279167\n",
      "[Epoch 0] speed: 3 samples/sec\ttime cost: 176.784332\n",
      "[Epoch 0] validation: top1=0.437500 top5=1.000000\n",
      "[Epoch 0] Current best top-1: 0.437500 vs previous -inf, saved to /home/xherror/Repo/cs231n-exercise-assignment/assignment3/56b6ea6e/.trial_0/best_checkpoint.pkl\n",
      "[Epoch 1] training: accuracy=0.516667\n",
      "[Epoch 1] speed: 4 samples/sec\ttime cost: 156.931589\n",
      "[Epoch 1] validation: top1=0.725000 top5=1.000000\n",
      "[Epoch 1] Current best top-1: 0.725000 vs previous 0.437500, saved to /home/xherror/Repo/cs231n-exercise-assignment/assignment3/56b6ea6e/.trial_0/best_checkpoint.pkl\n",
      "Applying the state from the best checkpoint...\n",
      "Finished, total runtime is 352.26 s\n",
      "{ 'best_config': { 'batch_size': 16,\n",
      "                   'dist_ip_addrs': None,\n",
      "                   'early_stop_baseline': -inf,\n",
      "                   'early_stop_max_value': inf,\n",
      "                   'early_stop_patience': 10,\n",
      "                   'epochs': 2,\n",
      "                   'final_fit': False,\n",
      "                   'gpus': [0],\n",
      "                   'lr': 0.01,\n",
      "                   'model': 'resnet50',\n",
      "                   'ngpus_per_trial': 8,\n",
      "                   'nthreads_per_trial': 128,\n",
      "                   'num_workers': 8,\n",
      "                   'searcher': 'random',\n",
      "                   'seed': 199,\n",
      "                   'time_limits': 7200},\n",
      "  'total_time': 347.44130969047546,\n",
      "  'train_acc': 0.5166666666666667,\n",
      "  'valid_acc': 0.725}\n"
     ]
    },
    {
     "data": {
      "text/plain": [
       "<autogluon.vision.predictor.predictor.ImagePredictor at 0x7f7103a3fc10>"
      ]
     },
     "execution_count": 5,
     "metadata": {},
     "output_type": "execute_result"
    }
   ],
   "source": [
    "predictor = ImagePredictor()\n",
    "# since the original dataset does not provide validation split, the `fit` function splits it randomly with 90/10 ratio\n",
    "predictor.fit(train_dataset, hyperparameters={'epochs': 1})  # you can trust the default config, we reduce the # epoch to save some build time"
   ]
  },
  {
   "cell_type": "code",
   "execution_count": 6,
   "metadata": {},
   "outputs": [
    {
     "name": "stdout",
     "output_type": "stream",
     "text": [
      "Top-1 train acc: 0.517, val acc: 0.725\n"
     ]
    }
   ],
   "source": [
    "fit_result = predictor.fit_summary()\n",
    "print('Top-1 train acc: %.3f, val acc: %.3f' %(fit_result['train_acc'], fit_result['valid_acc']))"
   ]
  },
  {
   "cell_type": "code",
   "execution_count": 7,
   "metadata": {},
   "outputs": [
    {
     "name": "stdout",
     "output_type": "stream",
     "text": [
      "0    1\n",
      "Name: label, dtype: int64\n"
     ]
    }
   ],
   "source": [
    "image_path = test_dataset.iloc[0]['image']\n",
    "result = predictor.predict(image_path)\n",
    "print(result)"
   ]
  },
  {
   "cell_type": "code",
   "execution_count": 8,
   "metadata": {},
   "outputs": [
    {
     "name": "stdout",
     "output_type": "stream",
     "text": [
      "          0         1         2         3\n",
      "0  0.228553  0.296949  0.294802  0.179696\n"
     ]
    }
   ],
   "source": [
    "proba = predictor.predict_proba(image_path)\n",
    "print(proba)"
   ]
  },
  {
   "cell_type": "code",
   "execution_count": 9,
   "metadata": {},
   "outputs": [
    {
     "name": "stderr",
     "output_type": "stream",
     "text": [
      "[Epoch 1] validation: top1=0.700000 top5=1.000000\n"
     ]
    },
    {
     "name": "stdout",
     "output_type": "stream",
     "text": [
      "Top-1 test acc: 0.700\n"
     ]
    }
   ],
   "source": [
    "test_acc = predictor.evaluate(test_dataset)\n",
    "print('Top-1 test acc: %.3f' % test_acc['top1'])"
   ]
  },
  {
   "cell_type": "code",
   "execution_count": null,
   "metadata": {},
   "outputs": [],
   "source": []
  }
 ],
 "metadata": {
  "interpreter": {
   "hash": "bdb3ae18f5c2090b9c74a27d28999bb0a9367535041c05f7d7d541b8c3c742a4"
  },
  "kernelspec": {
   "display_name": "Python 3.9.7 ('base')",
   "language": "python",
   "name": "python3"
  },
  "language_info": {
   "codemirror_mode": {
    "name": "ipython",
    "version": 3
   },
   "file_extension": ".py",
   "mimetype": "text/x-python",
   "name": "python",
   "nbconvert_exporter": "python",
   "pygments_lexer": "ipython3",
   "version": "3.9.7"
  },
  "orig_nbformat": 4
 },
 "nbformat": 4,
 "nbformat_minor": 2
}
